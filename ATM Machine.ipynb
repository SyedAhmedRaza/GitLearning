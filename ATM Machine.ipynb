{
 "cells": [
  {
   "cell_type": "code",
   "execution_count": 5,
   "metadata": {},
   "outputs": [],
   "source": [
    "accountsData = [\n",
    "    {\n",
    "        #pin code\n",
    "        1234: {\n",
    "            'name':'Ali',\n",
    "            'account_no':456,\n",
    "            'balance':10000\n",
    "        },\n",
    "        #pin code\n",
    "        5678: {\n",
    "            'name':'Hamza',\n",
    "            'account_no':678,\n",
    "            'balance':20000\n",
    "        },\n",
    "        #pin code\n",
    "        9010: {\n",
    "            'name':'Ubaid',\n",
    "            'account_no':798,\n",
    "            'balance':30000\n",
    "        }\n",
    "    }\n",
    "]"
   ]
  },
  {
   "cell_type": "code",
   "execution_count": null,
   "metadata": {},
   "outputs": [],
   "source": []
  },
  {
   "cell_type": "code",
   "execution_count": 19,
   "metadata": {},
   "outputs": [
    {
     "name": "stdout",
     "output_type": "stream",
     "text": [
      "Please enter your pin code: 1234\n",
      "Hello Ali\n",
      "Account # 456 \n",
      "\n",
      "What action you want to perform \n",
      " 1. Check Balance \n",
      " 2. Deposit Money \n",
      " 3. Withdraw Money\n",
      "Enter your choice: 3\n",
      "How much money you want to withdraw: 5000\n",
      "Your Balance after Deposit: Rs. 5000\n"
     ]
    }
   ],
   "source": [
    "pin_code = int(input('Please enter your pin code: '))\n",
    "\n",
    "if pin_code in accountsData[0]:\n",
    "    \n",
    "    user = accountsData[0][pin_code]['name']\n",
    "    account_no = accountsData[0][pin_code]['account_no']\n",
    "    balance = accountsData[0][pin_code]['balance']\n",
    "\n",
    "\n",
    "    print(f'Hello {user}')\n",
    "    print(f'Account # {account_no} \\n')\n",
    "    \n",
    "    print('What action you want to perform \\n 1. Check Balance \\n 2. Deposit Money \\n 3. Withdraw Money')\n",
    "    \n",
    "    action = int(input('Enter your choice: '))\n",
    "    \n",
    "    if action == 1:\n",
    "        print(f'Your Balance: Rs. {balance}')\n",
    "    elif action == 2:\n",
    "        deposit_money = int(input('How much money you want to deposit: '))\n",
    "        balance += deposit_money\n",
    "        print(f'Your Balance after Deposit: Rs. {balance}')\n",
    "    elif action == 3:\n",
    "        withdraw_money = int(input('How much money you want to withdraw: '))\n",
    "        balance -= withdraw_money\n",
    "        print(f'Your Balance after Deposit: Rs. {balance}')\n",
    "    else:\n",
    "        print('Invalid Choice')\n",
    "              \n",
    "else:\n",
    "    print('Account not exist with this pin code')\n",
    "\n",
    "        \n",
    "        \n",
    "        "
   ]
  },
  {
   "cell_type": "code",
   "execution_count": null,
   "metadata": {},
   "outputs": [],
   "source": []
  },
  {
   "cell_type": "code",
   "execution_count": null,
   "metadata": {},
   "outputs": [],
   "source": []
  },
  {
   "cell_type": "code",
   "execution_count": null,
   "metadata": {},
   "outputs": [],
   "source": []
  },
  {
   "cell_type": "code",
   "execution_count": null,
   "metadata": {},
   "outputs": [],
   "source": []
  },
  {
   "cell_type": "code",
   "execution_count": null,
   "metadata": {},
   "outputs": [],
   "source": []
  },
  {
   "cell_type": "code",
   "execution_count": null,
   "metadata": {},
   "outputs": [],
   "source": []
  },
  {
   "cell_type": "code",
   "execution_count": null,
   "metadata": {},
   "outputs": [],
   "source": []
  },
  {
   "cell_type": "code",
   "execution_count": null,
   "metadata": {},
   "outputs": [],
   "source": []
  },
  {
   "cell_type": "code",
   "execution_count": null,
   "metadata": {},
   "outputs": [],
   "source": []
  },
  {
   "cell_type": "code",
   "execution_count": null,
   "metadata": {},
   "outputs": [],
   "source": []
  },
  {
   "cell_type": "code",
   "execution_count": null,
   "metadata": {},
   "outputs": [],
   "source": []
  },
  {
   "cell_type": "code",
   "execution_count": null,
   "metadata": {},
   "outputs": [],
   "source": []
  },
  {
   "cell_type": "code",
   "execution_count": null,
   "metadata": {},
   "outputs": [],
   "source": []
  },
  {
   "cell_type": "code",
   "execution_count": null,
   "metadata": {},
   "outputs": [],
   "source": []
  },
  {
   "cell_type": "code",
   "execution_count": null,
   "metadata": {},
   "outputs": [],
   "source": []
  },
  {
   "cell_type": "code",
   "execution_count": null,
   "metadata": {},
   "outputs": [],
   "source": []
  },
  {
   "cell_type": "code",
   "execution_count": null,
   "metadata": {},
   "outputs": [],
   "source": []
  },
  {
   "cell_type": "code",
   "execution_count": null,
   "metadata": {},
   "outputs": [],
   "source": []
  }
 ],
 "metadata": {
  "kernelspec": {
   "display_name": "Python 3",
   "language": "python",
   "name": "python3"
  },
  "language_info": {
   "codemirror_mode": {
    "name": "ipython",
    "version": 3
   },
   "file_extension": ".py",
   "mimetype": "text/x-python",
   "name": "python",
   "nbconvert_exporter": "python",
   "pygments_lexer": "ipython3",
   "version": "3.7.3"
  }
 },
 "nbformat": 4,
 "nbformat_minor": 2
}
