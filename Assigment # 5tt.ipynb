{
 "cells": [
  {
   "cell_type": "code",
   "execution_count": 1,
   "metadata": {},
   "outputs": [],
   "source": [
    "remOrder = [\"Python\",\"Git\",\"Tensorflow\",\"Numpy\",\"Keras\",\"React\",\"R\",\"F#\"]\n",
    "plcdOrder = []"
   ]
  },
  {
   "cell_type": "code",
   "execution_count": null,
   "metadata": {},
   "outputs": [
    {
     "name": "stdout",
     "output_type": "stream",
     "text": [
      "Welcome to AI Bookshop\n",
      "---Here Are The List Of Books---\n",
      "Python\n",
      "Git\n",
      "Tensorflow\n",
      "Numpy\n",
      "Keras\n",
      "React\n",
      "R\n",
      "F#\n"
     ]
    }
   ],
   "source": [
    "welcome = print(\"Welcome to AI Bookshop\")\n",
    "print(\"---Here Are The List Of Books---\")\n",
    "for i in remOrder:\n",
    "    print(i)\n",
    "for inp in range(len(remOrder)):\n",
    "    book = input(\"Please Enter YOur Ordering Book Name:\").title()\n",
    "    if book in remOrder:\n",
    "        ind = remOrder.index(book)\n",
    "        popped = remOrder.pop(ind)\n",
    "        app = plcdOrder.append(popped.title())\n",
    "        print (plcdOrder)\n",
    "        print(remOrder)\n",
    "\n",
    "\n",
    "    #a = remOrder.pop(x)\n",
    "    else:\n",
    "        print(\"Please Enter Correct Book Name!!!\")"
   ]
  },
  {
   "cell_type": "code",
   "execution_count": null,
   "metadata": {},
   "outputs": [],
   "source": []
  }
 ],
 "metadata": {
  "kernelspec": {
   "display_name": "Python 3",
   "language": "python",
   "name": "python3"
  },
  "language_info": {
   "codemirror_mode": {
    "name": "ipython",
    "version": 3
   },
   "file_extension": ".py",
   "mimetype": "text/x-python",
   "name": "python",
   "nbconvert_exporter": "python",
   "pygments_lexer": "ipython3",
   "version": "3.7.3"
  }
 },
 "nbformat": 4,
 "nbformat_minor": 2
}
