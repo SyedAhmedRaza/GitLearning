{
 "cells": [
  {
   "cell_type": "code",
   "execution_count": 9,
   "metadata": {},
   "outputs": [],
   "source": [
    "to_do_list_Ramazan = [\"Sehri\",\"Fajr\",\"Zahur\",\"Quran\",\"Asar\",\"Iftaar\",\"Magrib\",\"Isha\",\"Assignments\"]"
   ]
  },
  {
   "cell_type": "code",
   "execution_count": 10,
   "metadata": {},
   "outputs": [],
   "source": [
    "done_list = []"
   ]
  },
  {
   "cell_type": "code",
   "execution_count": 11,
   "metadata": {},
   "outputs": [
    {
     "name": "stdout",
     "output_type": "stream",
     "text": [
      "Enter the task you have done for Today!sehri\n",
      "Task's you still have to do: ['Fajr', 'Zahur', 'Quran', 'Asar', 'Iftaar', 'Magrib', 'Isha', 'Assignments']\n",
      "Task's completed: ['Sehri']\n"
     ]
    }
   ],
   "source": [
    "tasks_done = str(input(\"Enter the task you have done for Today!\").title())\n",
    "if tasks_done in to_do_list_Ramazan:\n",
    "    index_number = int(to_do_list_Ramazan.index(tasks_done))\n",
    "    done_list.append(to_do_list_Ramazan.pop(index_number))\n",
    "    print(f\"Task's you still have to do: {to_do_list_Ramazan}\")\n",
    "    print(f\"Task's completed: {done_list}\")\n",
    "    if len(to_do_list_Ramazan)<1:\n",
    "        print(\"Now your list is empty!\")    \n",
    "else:\n",
    "    print(\"This task is not in the To-do list!\")\n",
    "\n",
    "\n",
    "    "
   ]
  },
  {
   "cell_type": "code",
   "execution_count": null,
   "metadata": {},
   "outputs": [],
   "source": []
  }
 ],
 "metadata": {
  "kernelspec": {
   "display_name": "Python 3",
   "language": "python",
   "name": "python3"
  },
  "language_info": {
   "codemirror_mode": {
    "name": "ipython",
    "version": 3
   },
   "file_extension": ".py",
   "mimetype": "text/x-python",
   "name": "python",
   "nbconvert_exporter": "python",
   "pygments_lexer": "ipython3",
   "version": "3.7.3"
  }
 },
 "nbformat": 4,
 "nbformat_minor": 2
}
